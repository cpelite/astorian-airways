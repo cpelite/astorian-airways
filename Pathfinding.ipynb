{
 "metadata": {
  "name": "",
  "signature": "sha256:1c24cab8b027cfa62783fe67fba61fc3a37de094864cfb7d0d6caef7220017a0"
 },
 "nbformat": 3,
 "nbformat_minor": 0,
 "worksheets": [
  {
   "cells": [
    {
     "cell_type": "code",
     "collapsed": false,
     "input": [
      "from aaweb.models import *"
     ],
     "language": "python",
     "metadata": {},
     "outputs": [],
     "prompt_number": 1
    },
    {
     "cell_type": "code",
     "collapsed": false,
     "input": [
      "from datetime import date\n",
      "\n",
      "departure_code = \"AST\"\n",
      "ras = RouteAssignment.select().where(RouteAssignment.active == True and getattr(RouteAssignment,date.today().strftime(\"%A\").lower()) == True ).join(Route).join(Airport, on=Route.departure).where(Airport.code == departure_code)"
     ],
     "language": "python",
     "metadata": {},
     "outputs": [],
     "prompt_number": 2
    },
    {
     "cell_type": "code",
     "collapsed": false,
     "input": [
      "for ra in ras:\n",
      "    print(ra.route.departure.code, ra.route.arrival.code, ra.route.duration)"
     ],
     "language": "python",
     "metadata": {},
     "outputs": [
      {
       "output_type": "stream",
       "stream": "stdout",
       "text": [
        "(u'AST', u'HNM', 330)\n",
        "(u'AST', u'CON', 205)\n",
        "(u'AST', u'NBS', 90)\n"
       ]
      }
     ],
     "prompt_number": 3
    },
    {
     "cell_type": "code",
     "collapsed": false,
     "input": [
      "def get_neighbours(code, weekday=date.today().strftime(\"%A\")):\n",
      "    result = set()\n",
      "    for ra in RouteAssignment.select().where(RouteAssignment.active == True and getattr(RouteAssignment,weekday.lower()) == True ).join(Route).join(Airport, on=Route.departure).where(Airport.code == code.upper()):\n",
      "        result.add(ra.route.arrival.code)\n",
      "    return result"
     ],
     "language": "python",
     "metadata": {},
     "outputs": [],
     "prompt_number": 24
    },
    {
     "cell_type": "code",
     "collapsed": false,
     "input": [
      "get_neighbours(\"AST\")"
     ],
     "language": "python",
     "metadata": {},
     "outputs": [
      {
       "metadata": {},
       "output_type": "pyout",
       "prompt_number": 5,
       "text": [
        "{u'CON', u'HNM', u'NBS'}"
       ]
      }
     ],
     "prompt_number": 5
    },
    {
     "cell_type": "code",
     "collapsed": false,
     "input": [
      "def get_distance(departure_code, arrival_code):\n",
      "    try:\n",
      "        start = Airport.get(Airport.code == departure_code.upper()).id\n",
      "        end = Airport.get(Airport.code == arrival_code.upper()).id\n",
      "        return Route.select().where(Route.departure == start and Route.arrival == end).get().duration\n",
      "    except:\n",
      "        return 90000"
     ],
     "language": "python",
     "metadata": {},
     "outputs": [],
     "prompt_number": 6
    },
    {
     "cell_type": "code",
     "collapsed": false,
     "input": [
      "get_distance(\"AST\",\"CON\")"
     ],
     "language": "python",
     "metadata": {},
     "outputs": [
      {
       "metadata": {},
       "output_type": "pyout",
       "prompt_number": 7,
       "text": [
        "205"
       ]
      }
     ],
     "prompt_number": 7
    },
    {
     "cell_type": "code",
     "collapsed": false,
     "input": [
      "from pypaths import astar\n",
      "\n",
      "finder = astar.pathfinder(\n",
      "                  distance=get_distance,   # Calculate the absolute distance between two nodes\n",
      "                  cost=get_distance,       # Calculate the heuristic cost between nodes\n",
      "                  neighbors=get_neighbours # Calculate the list of neighbors for a given node\n",
      ")\n",
      "\n",
      "print finder(\"CON\", \"HNM\")"
     ],
     "language": "python",
     "metadata": {},
     "outputs": [
      {
       "output_type": "stream",
       "stream": "stdout",
       "text": [
        "(660, ['CON', u'AST', 'HNM'])\n"
       ]
      }
     ],
     "prompt_number": 23
    },
    {
     "cell_type": "code",
     "collapsed": false,
     "input": [
      "def pathfinder( neighbors, distance, cost, datetime):\n",
      "    \"\"\"\n",
      "    Find the shortest distance between two nodes in a graph using the \n",
      "    astar algorithm. By default, the graph is a coordinate plane where \n",
      "    every node has the same cost and nodes can be traversed horizontally \n",
      "    and vertically.\n",
      "    Keyword Arguments:\n",
      "    neighbor - Callable that takes a node and returns a list\n",
      "               of neighboring nodes.\n",
      "    distance - Callable that returns the estimated distance\n",
      "               between two nodes.\n",
      "    cost     - Callable that returns the cost to traverse\n",
      "               between two given nodes.\n",
      "    \"\"\"\n",
      "    \n",
      "    def reconstruct_path( came_from, current_node ):\n",
      "        \"\"\"Reconstruct the path from a given node to the beginning\"\"\"\n",
      "        if current_node in came_from:\n",
      "            p = reconstruct_path( came_from, came_from[ current_node ] )\n",
      "            p.append( current_node )\n",
      "            return p\n",
      "        else:\n",
      "            return [ current_node ]\n",
      "\n",
      "    def func( start, end, max_cost=None ):\n",
      "        \"\"\"\n",
      "        Perform a-star pathfinding from a start to an\n",
      "        end coordinate.\n",
      "        Returns a tuple containing the cost associated with\n",
      "        the path, and a list of coordinates in the path\n",
      "        This implementation is based on the wikipedia pseudocode, which\n",
      "        translated almost directly into python.\n",
      "        http://en.wikipedia.org/wiki/A*_search_algorithm\n",
      "        \"\"\"\n",
      "        open_set = set( [ start ] )\n",
      "        closed_set = set()\n",
      "        came_from = {}\n",
      "\n",
      "        g_score = { start : 0 }\n",
      "        f_score = { start : cost( start, end ) }\n",
      "\n",
      "        while len( open_set ) != 0:\n",
      "            current = min( open_set, key=lambda c: f_score[c] )\n",
      "\n",
      "            if max_cost != None and g_score[ current ] > max_cost:\n",
      "                break\n",
      "\n",
      "            if current == end:\n",
      "                return g_score[ current ], reconstruct_path( came_from, end )\n",
      "\n",
      "            open_set.discard( current )\n",
      "            closed_set.add( current )\n",
      "            for neighbor in neighbors( current ):\n",
      "                tentative_score = g_score[ current ] + cost( current, neighbor )\n",
      "\n",
      "                if neighbor in closed_set and ( neighbor in g_score and tentative_score >= g_score[ neighbor ] ):\n",
      "                    continue\n",
      "\n",
      "                if neighbor not in open_set or ( neighbor in g_score and tentative_score < g_score[ neighbor ] ):\n",
      "                    came_from[ neighbor ] = current\n",
      "                    g_score[ neighbor ] = tentative_score\n",
      "                    f_score[ neighbor ] = tentative_score + distance( neighbor, end )\n",
      "\n",
      "                    if neighbor not in open_set:\n",
      "                        open_set.add( neighbor )\n",
      "\n",
      "        return None, []\n",
      "    \n",
      "    return func"
     ],
     "language": "python",
     "metadata": {},
     "outputs": [],
     "prompt_number": 16
    },
    {
     "cell_type": "code",
     "collapsed": false,
     "input": [
      "from datetime import datetime, timedelta\n",
      "\n",
      "def get_neighbours(code, datetime):\n",
      "    result = set()\n",
      "    weekday = datetime.strftime(\"%A\").lower()\n",
      "    time\n",
      "    for ra in RouteAssignment.select().where(RouteAssignment.active == True and getattr(RouteAssignment,weekday) == True and RouteAssignment.departure ).join(Route).join(Airport, on=Route.departure).where(Airport.code == code.upper()):\n",
      "        result.add(ra.route.arrival.code)\n",
      "    return result\n",
      "\n",
      "\n",
      "finder = pathfinder(\n",
      "                  distance=get_distance,    # Calculate the absolute distance between two nodes\n",
      "                  cost=get_distance,        # Calculate the heuristic cost between nodes\n",
      "                  neighbors=get_neighbours, # Calculate the list of neighbors for a given node\n",
      "                  datetime = datetime.now()\n",
      ")\n",
      "\n",
      "print finder(\"AST\", \"CON\")"
     ],
     "language": "python",
     "metadata": {},
     "outputs": [
      {
       "ename": "TypeError",
       "evalue": "get_neighbours() takes exactly 2 arguments (1 given)",
       "output_type": "pyerr",
       "traceback": [
        "\u001b[1;31m---------------------------------------------------------------------------\u001b[0m\n\u001b[1;31mTypeError\u001b[0m                                 Traceback (most recent call last)",
        "\u001b[1;32m<ipython-input-25-434b4f587b29>\u001b[0m in \u001b[0;36m<module>\u001b[1;34m()\u001b[0m\n\u001b[0;32m     16\u001b[0m )\n\u001b[0;32m     17\u001b[0m \u001b[1;33m\u001b[0m\u001b[0m\n\u001b[1;32m---> 18\u001b[1;33m \u001b[1;32mprint\u001b[0m \u001b[0mfinder\u001b[0m\u001b[1;33m(\u001b[0m\u001b[1;34m\"AST\"\u001b[0m\u001b[1;33m,\u001b[0m \u001b[1;34m\"CON\"\u001b[0m\u001b[1;33m)\u001b[0m\u001b[1;33m\u001b[0m\u001b[0m\n\u001b[0m",
        "\u001b[1;32m<ipython-input-16-ed253993db48>\u001b[0m in \u001b[0;36mfunc\u001b[1;34m(start, end, max_cost)\u001b[0m\n\u001b[0;32m     51\u001b[0m             \u001b[0mopen_set\u001b[0m\u001b[1;33m.\u001b[0m\u001b[0mdiscard\u001b[0m\u001b[1;33m(\u001b[0m \u001b[0mcurrent\u001b[0m \u001b[1;33m)\u001b[0m\u001b[1;33m\u001b[0m\u001b[0m\n\u001b[0;32m     52\u001b[0m             \u001b[0mclosed_set\u001b[0m\u001b[1;33m.\u001b[0m\u001b[0madd\u001b[0m\u001b[1;33m(\u001b[0m \u001b[0mcurrent\u001b[0m \u001b[1;33m)\u001b[0m\u001b[1;33m\u001b[0m\u001b[0m\n\u001b[1;32m---> 53\u001b[1;33m             \u001b[1;32mfor\u001b[0m \u001b[0mneighbor\u001b[0m \u001b[1;32min\u001b[0m \u001b[0mneighbors\u001b[0m\u001b[1;33m(\u001b[0m \u001b[0mcurrent\u001b[0m \u001b[1;33m)\u001b[0m\u001b[1;33m:\u001b[0m\u001b[1;33m\u001b[0m\u001b[0m\n\u001b[0m\u001b[0;32m     54\u001b[0m                 \u001b[0mtentative_score\u001b[0m \u001b[1;33m=\u001b[0m \u001b[0mg_score\u001b[0m\u001b[1;33m[\u001b[0m \u001b[0mcurrent\u001b[0m \u001b[1;33m]\u001b[0m \u001b[1;33m+\u001b[0m \u001b[0mcost\u001b[0m\u001b[1;33m(\u001b[0m \u001b[0mcurrent\u001b[0m\u001b[1;33m,\u001b[0m \u001b[0mneighbor\u001b[0m \u001b[1;33m)\u001b[0m\u001b[1;33m\u001b[0m\u001b[0m\n\u001b[0;32m     55\u001b[0m \u001b[1;33m\u001b[0m\u001b[0m\n",
        "\u001b[1;31mTypeError\u001b[0m: get_neighbours() takes exactly 2 arguments (1 given)"
       ]
      }
     ],
     "prompt_number": 25
    },
    {
     "cell_type": "code",
     "collapsed": false,
     "input": [
      "from datetime import time\n",
      "for i in RouteAssignment.select().where(RouteAssignment.active == True and RouteAssignment.departure > time(23,0)):\n",
      "    print i.id"
     ],
     "language": "python",
     "metadata": {},
     "outputs": [],
     "prompt_number": 32
    },
    {
     "cell_type": "code",
     "collapsed": false,
     "input": [
      "time(13,0).hour"
     ],
     "language": "python",
     "metadata": {},
     "outputs": [
      {
       "metadata": {},
       "output_type": "pyout",
       "prompt_number": 35,
       "text": [
        "13"
       ]
      }
     ],
     "prompt_number": 35
    },
    {
     "cell_type": "code",
     "collapsed": false,
     "input": [],
     "language": "python",
     "metadata": {},
     "outputs": []
    }
   ],
   "metadata": {}
  }
 ]
}